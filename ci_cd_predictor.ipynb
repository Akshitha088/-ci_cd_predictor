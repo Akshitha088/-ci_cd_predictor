{
  "nbformat": 4,
  "nbformat_minor": 0,
  "metadata": {
    "colab": {
      "provenance": []
    },
    "kernelspec": {
      "name": "python3",
      "display_name": "Python 3"
    },
    "language_info": {
      "name": "python"
    }
  },
  "cells": [
    {
      "cell_type": "code",
      "execution_count": 1,
      "metadata": {
        "id": "8kEuSiecPYks"
      },
      "outputs": [],
      "source": [
        "import pandas as pd"
      ]
    },
    {
      "cell_type": "code",
      "source": [
        "import numpy as np\n",
        "from sklearn.ensemble import RandomForestClassifier\n",
        "from sklearn.metrics import classification_report\n",
        "from sklearn.model_selection import train_test_split"
      ],
      "metadata": {
        "id": "t6uyl8DXP_gG"
      },
      "execution_count": 2,
      "outputs": []
    },
    {
      "cell_type": "code",
      "source": [
        "def simulate_ppl_data(n=500):\n",
        "    np.random.seed(42)\n",
        "    data = {\n",
        "        'code_change_lines': np.random.poisson(20, n),\n",
        "        'files_changed': np.random.randint(1, 10, n),\n",
        "        'unit_t_coverage': np.random.uniform(50, 100, n),\n",
        "        'num_failed_t': np.random.randint(0, 5, n),\n",
        "        'build_duration': np.random.normal(10, 2, n),\n",
        "        'developer_experience': np.random.randint(1, 5, n),\n",
        "        'failure': np.random.choice([0, 1], n, p=[0.7, 0.3])\n",
        "    }\n",
        "    return pd.DataFrame(data)\n",
        "\n"
      ],
      "metadata": {
        "id": "sda8r4vRQB1h"
      },
      "execution_count": 22,
      "outputs": []
    },
    {
      "cell_type": "code",
      "source": [
        "def engineer_f(df):\n",
        "    df['t_failure_ratio'] = df['num_failed_t'] / (df['files_changed'] + 1)\n",
        "    return df.drop(columns=['num_failed_t'])"
      ],
      "metadata": {
        "id": "araibi_qSMrI"
      },
      "execution_count": 23,
      "outputs": []
    },
    {
      "cell_type": "code",
      "source": [
        "def tr_model(df):\n",
        "    X = df.drop(columns=['failure'])\n",
        "    y = df['failure']\n",
        "    X_tr, X_te, y_tr, y_te = train_test_split(X, y, test_size=0.2, random_state=42)\n",
        "\n",
        "    model = RandomForestClassifier(n_estimators=100, random_state=42)\n",
        "    model.fit(X_tr, y_tr)\n",
        "    y_pred = model.predict(X_te)\n",
        "    print(\"Model Evaluation:\\n\", classification_report(y_te, y_pred))\n",
        "    return model, X_te"
      ],
      "metadata": {
        "id": "FgtmPsFwSWG8"
      },
      "execution_count": 24,
      "outputs": []
    },
    {
      "cell_type": "code",
      "source": [
        "def suggest_actions(sample):\n",
        "    sug = []\n",
        "    if sample['unit_t_coverage'] < 70:\n",
        "        sug.append(\"Increase unit test coverage.\")\n",
        "    if sample['t_failure_ratio'] > 0.3:\n",
        "        sug.append(\"Investigate failing t.\")\n",
        "    if sample['code_change_lines'] > 50:\n",
        "        sug.append(\"Break down large code changes.\")\n",
        "    if not sug:\n",
        "        sug.append(\"No issues found, looks good.\")\n",
        "    return sug\n",
        "\n"
      ],
      "metadata": {
        "id": "RdEPDouISuXX"
      },
      "execution_count": 25,
      "outputs": []
    },
    {
      "cell_type": "code",
      "source": [
        "if __name__ == \"__main__\":\n",
        "    print(\"Simulating CI/CD Data\")\n",
        "    df = simulate_ppl_data()\n",
        "    df = engineer_f(df)\n",
        "\n",
        "    print(\"\\n Training failure prediction model\")\n",
        "    model, X_te = tr_model(df)\n",
        "\n",
        "    print(\"\\n Predicting and Recommending Fixes on New Builds\")\n",
        "    for i in range(4):\n",
        "        sample = X_te.iloc[i]\n",
        "        prediction = model.predict(pd.DataFrame([sample]))[0]\n",
        "        print(f\"\\nSample {i+1}:\")\n",
        "        print(sample)\n",
        "        print(f\" Predicted Failure: {'Yes' if prediction else 'No'}\")\n",
        "        if prediction:\n",
        "            sug = suggest_actions(sample)\n",
        "            print(\" Recommended Actions:\")\n",
        "            for s in sug:\n",
        "                print(f\"- {s}\")"
      ],
      "metadata": {
        "colab": {
          "base_uri": "https://localhost:8080/"
        },
        "id": "ExXbLm8ITQrr",
        "outputId": "44df2747-7ee8-4b22-ed30-e63f687ca53f"
      },
      "execution_count": 27,
      "outputs": [
        {
          "output_type": "stream",
          "name": "stdout",
          "text": [
            "Simulating CI/CD Data\n",
            "\n",
            " Training failure prediction model\n",
            "Model Evaluation:\n",
            "               precision    recall  f1-score   support\n",
            "\n",
            "           0       0.71      0.86      0.78        71\n",
            "           1       0.29      0.14      0.19        29\n",
            "\n",
            "    accuracy                           0.65       100\n",
            "   macro avg       0.50      0.50      0.48       100\n",
            "weighted avg       0.59      0.65      0.61       100\n",
            "\n",
            "\n",
            " Predicting and Recommending Fixes on New Builds\n",
            "\n",
            "Sample 1:\n",
            "code_change_lines       14.000000\n",
            "files_changed            6.000000\n",
            "unit_t_coverage         72.584841\n",
            "build_duration           8.044876\n",
            "developer_experience     1.000000\n",
            "t_failure_ratio          0.285714\n",
            "Name: 361, dtype: float64\n",
            " Predicted Failure: No\n",
            "\n",
            "Sample 2:\n",
            "code_change_lines       27.000000\n",
            "files_changed            3.000000\n",
            "unit_t_coverage         51.778543\n",
            "build_duration           8.353282\n",
            "developer_experience     2.000000\n",
            "t_failure_ratio          0.750000\n",
            "Name: 73, dtype: float64\n",
            " Predicted Failure: No\n",
            "\n",
            "Sample 3:\n",
            "code_change_lines       21.000000\n",
            "files_changed            3.000000\n",
            "unit_t_coverage         94.847897\n",
            "build_duration          11.292595\n",
            "developer_experience     4.000000\n",
            "t_failure_ratio          0.000000\n",
            "Name: 374, dtype: float64\n",
            " Predicted Failure: No\n",
            "\n",
            "Sample 4:\n",
            "code_change_lines       18.000000\n",
            "files_changed            7.000000\n",
            "unit_t_coverage         78.858639\n",
            "build_duration           9.756592\n",
            "developer_experience     2.000000\n",
            "t_failure_ratio          0.125000\n",
            "Name: 155, dtype: float64\n",
            " Predicted Failure: No\n"
          ]
        }
      ]
    }
  ]
}